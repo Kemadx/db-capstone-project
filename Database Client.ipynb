{
 "cells": [
  {
   "cell_type": "code",
   "execution_count": 1,
   "metadata": {},
   "outputs": [],
   "source": [
    "import mysql.connector as connector\n",
    "from mysql.connector import errorcode"
   ]
  },
  {
   "attachments": {},
   "cell_type": "markdown",
   "metadata": {},
   "source": [
    "# Task 1: Connecting to the database"
   ]
  },
  {
   "cell_type": "code",
   "execution_count": 19,
   "metadata": {},
   "outputs": [
    {
     "name": "stdout",
     "output_type": "stream",
     "text": [
      "Connection established!\n"
     ]
    }
   ],
   "source": [
    "# We start by creating a dictionary to pass as argument for connecting to the database\n",
    "dbconfig = {\n",
    "    \"database\" : \"littlelemondb\", \n",
    "    \"user\" : \"Your User\",\n",
    "    \"password\" : \"Your Password\"\n",
    "}\n",
    "\n",
    "# Using a try-except, we establish a connection to the database\n",
    "try:\n",
    "    connection = connector.connect(**dbconfig)\n",
    "    print(\"Connection established!\")\n",
    "except connector.Error as err:\n",
    "    if err.errno == errorcode.ER_ACCESS_DENIED_ERROR:\n",
    "        print(\"Connection user or passwords are incorrect\")\n",
    "    elif err.errno == errorcode.ER_BAD_DB_ERROR:\n",
    "        print(\"Database does not exist\")\n",
    "    else:\n",
    "        print(\"Error code:\", err.errno)\n",
    "        print(\"Error message:\", err.msg)"
   ]
  },
  {
   "attachments": {},
   "cell_type": "markdown",
   "metadata": {},
   "source": [
    "# Task 2: Query the database\n",
    "\n",
    "Task is to show the available tables in the database selected in dbconfig"
   ]
  },
  {
   "cell_type": "code",
   "execution_count": 13,
   "metadata": {},
   "outputs": [
    {
     "name": "stdout",
     "output_type": "stream",
     "text": [
      "('bookings',)\n",
      "('customerorders',)\n",
      "('customers',)\n",
      "('delivery',)\n",
      "('deliveryaddresses',)\n",
      "('highsellingmenus',)\n",
      "('menu',)\n",
      "('menuitems',)\n",
      "('orders',)\n",
      "('ordersview',)\n",
      "('staff',)\n"
     ]
    }
   ],
   "source": [
    "cursor = connection.cursor(buffered=True)\n",
    "\n",
    "show_tables_query = \"\"\"\n",
    "SHOW tables;\n",
    "\"\"\"\n",
    "\n",
    "cursor.execute(show_tables_query)\n",
    "results = cursor.fetchall()\n",
    "for res in results:\n",
    "    print(res)\n",
    "\n",
    "cursor.close()"
   ]
  },
  {
   "attachments": {},
   "cell_type": "markdown",
   "metadata": {},
   "source": [
    "# Task 3 Query a table with JOIN\n",
    "  \n",
    "Create a query showing\n",
    "- Customer full name\n",
    "- Contact details\n",
    "- For every customer that has placed an order greate than $60"
   ]
  },
  {
   "cell_type": "code",
   "execution_count": 23,
   "metadata": {},
   "outputs": [
    {
     "name": "stdout",
     "output_type": "stream",
     "text": [
      "('OrderID', 'FullName', 'Number', 'Email')\n",
      "(4, 'Mads Morgenstjerne', None, None)\n",
      "(5, 'Tina Olsen', None, None)\n",
      "(6, 'Bjarne Olsen', None, None)\n"
     ]
    },
    {
     "data": {
      "text/plain": [
       "True"
      ]
     },
     "execution_count": 23,
     "metadata": {},
     "output_type": "execute_result"
    }
   ],
   "source": [
    "cursor = connection.cursor()\n",
    "\n",
    "query = \"\"\"\n",
    "SELECT\n",
    "    o.OrderID,\n",
    "    c.FullName,\n",
    "    c.Number,\n",
    "    c.Email\n",
    "FROM orders AS o\n",
    "INNER JOIN customers AS c USING (CustomerID)\n",
    "WHERE o.TotalPrice > 60;\n",
    "\"\"\"\n",
    "\n",
    "cursor.execute(query)\n",
    "result = cursor.fetchall()\n",
    "headers = cursor.column_names\n",
    "print(headers)\n",
    "for res in result:\n",
    "    print(res)\n",
    "\n",
    "cursor.close()"
   ]
  }
 ],
 "metadata": {
  "kernelspec": {
   "display_name": "Python 3",
   "language": "python",
   "name": "python3"
  },
  "language_info": {
   "codemirror_mode": {
    "name": "ipython",
    "version": 3
   },
   "file_extension": ".py",
   "mimetype": "text/x-python",
   "name": "python",
   "nbconvert_exporter": "python",
   "pygments_lexer": "ipython3",
   "version": "3.11.1"
  },
  "orig_nbformat": 4
 },
 "nbformat": 4,
 "nbformat_minor": 2
}
